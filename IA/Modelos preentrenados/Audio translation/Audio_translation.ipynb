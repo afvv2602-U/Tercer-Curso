{
  "nbformat": 4,
  "nbformat_minor": 0,
  "metadata": {
    "colab": {
      "provenance": [],
      "collapsed_sections": [
        "Ke16nuybtH61",
        "V1yL35vytbPx",
        "XvsnDaI2v2hC",
        "UEmWytcrxusN"
      ]
    },
    "kernelspec": {
      "name": "python3",
      "display_name": "Python 3"
    },
    "language_info": {
      "name": "python"
    }
  },
  "cells": [
    {
      "cell_type": "markdown",
      "source": [
        "# **Installs e imports**"
      ],
      "metadata": {
        "id": "Ke16nuybtH61"
      }
    },
    {
      "cell_type": "code",
      "execution_count": null,
      "metadata": {
        "id": "Xyfasu49k_-K"
      },
      "outputs": [],
      "source": [
        "!pip install transformers\n",
        "!pip install librosa  # para procesamiento de audio\n",
        "!pip install soundfile  # para manejar archivos de audio\n",
        "!pip install sentencepiece\n",
        "!pip install accelerate\n"
      ]
    },
    {
      "cell_type": "code",
      "source": [
        "from transformers import pipeline,MBartForConditionalGeneration, MBart50TokenizerFast\n",
        "import librosa\n",
        "import soundfile as sf\n",
        "import torchaudio"
      ],
      "metadata": {
        "id": "7hCvsDfotRj3"
      },
      "execution_count": null,
      "outputs": []
    },
    {
      "cell_type": "markdown",
      "source": [
        "# **importar y configurar los modelos**\n",
        "\n",
        "\n"
      ],
      "metadata": {
        "id": "V1yL35vytbPx"
      }
    },
    {
      "cell_type": "markdown",
      "source": [
        "**Modelo de audio**\n",
        "\n",
        "*   Modelo de facebook wav2vec2\n"
      ],
      "metadata": {
        "id": "SJts-0aemKCg"
      }
    },
    {
      "cell_type": "code",
      "source": [
        "asr_model = pipeline(\"automatic-speech-recognition\", model=\"facebook/wav2vec2-base-960h\")"
      ],
      "metadata": {
        "id": "cjUA_CVjtawx",
        "colab": {
          "base_uri": "https://localhost:8080/"
        },
        "outputId": "ad52ac76-b9e5-42e7-e067-176a3e90d7c0"
      },
      "execution_count": null,
      "outputs": [
        {
          "output_type": "stream",
          "name": "stderr",
          "text": [
            "Some weights of the model checkpoint at facebook/wav2vec2-base-960h were not used when initializing Wav2Vec2ForCTC: ['wav2vec2.encoder.pos_conv_embed.conv.weight_g', 'wav2vec2.encoder.pos_conv_embed.conv.weight_v']\n",
            "- This IS expected if you are initializing Wav2Vec2ForCTC from the checkpoint of a model trained on another task or with another architecture (e.g. initializing a BertForSequenceClassification model from a BertForPreTraining model).\n",
            "- This IS NOT expected if you are initializing Wav2Vec2ForCTC from the checkpoint of a model that you expect to be exactly identical (initializing a BertForSequenceClassification model from a BertForSequenceClassification model).\n",
            "Some weights of Wav2Vec2ForCTC were not initialized from the model checkpoint at facebook/wav2vec2-base-960h and are newly initialized: ['wav2vec2.encoder.pos_conv_embed.conv.parametrizations.weight.original1', 'wav2vec2.encoder.pos_conv_embed.conv.parametrizations.weight.original0', 'wav2vec2.masked_spec_embed']\n",
            "You should probably TRAIN this model on a down-stream task to be able to use it for predictions and inference.\n"
          ]
        }
      ]
    },
    {
      "cell_type": "markdown",
      "source": [
        "Modelo de traduccion\n",
        "*   Modelo de facebook  mbart-large"
      ],
      "metadata": {
        "id": "VPi_zfM7mGE0"
      }
    },
    {
      "cell_type": "code",
      "source": [
        "model = MBartForConditionalGeneration.from_pretrained(\"facebook/mbart-large-50-many-to-many-mmt\")\n",
        "tokenizer = MBart50TokenizerFast.from_pretrained(\"facebook/mbart-large-50-many-to-many-mmt\")"
      ],
      "metadata": {
        "id": "ApmIGzQJuDaa"
      },
      "execution_count": null,
      "outputs": []
    },
    {
      "cell_type": "markdown",
      "source": [
        "# **Procesamiento del audio**\n"
      ],
      "metadata": {
        "id": "XvsnDaI2v2hC"
      }
    },
    {
      "cell_type": "markdown",
      "source": [
        "**Recogemos el audio**"
      ],
      "metadata": {
        "id": "iv2790-_nWve"
      }
    },
    {
      "cell_type": "code",
      "source": [
        "audio, rate = librosa.load(\"/3.mp3\", sr=16000)"
      ],
      "metadata": {
        "id": "0WP80NDrw4v0"
      },
      "execution_count": null,
      "outputs": []
    },
    {
      "cell_type": "markdown",
      "source": [
        "**Tratamos el audio para que sea texto**"
      ],
      "metadata": {
        "id": "rpB2pHL0kv74"
      }
    },
    {
      "cell_type": "code",
      "source": [
        "transcribed_text = asr_model(audio)[\"text\"]\n",
        "transcribed_text"
      ],
      "metadata": {
        "id": "ERB3rKXGxBIb",
        "colab": {
          "base_uri": "https://localhost:8080/",
          "height": 35
        },
        "outputId": "fa69baec-2224-4992-c28b-09bda4dbeec7"
      },
      "execution_count": null,
      "outputs": [
        {
          "output_type": "execute_result",
          "data": {
            "text/plain": [
              "\"I'LL PAY FOR THE CHAMPAGNE I'LL PAY FOR THE CHAMPAGNE TO NIGHT\""
            ],
            "application/vnd.google.colaboratory.intrinsic+json": {
              "type": "string"
            }
          },
          "metadata": {},
          "execution_count": 32
        }
      ]
    },
    {
      "cell_type": "markdown",
      "source": [
        "# **Traducción del texto**\n"
      ],
      "metadata": {
        "id": "UEmWytcrxusN"
      }
    },
    {
      "cell_type": "markdown",
      "source": [
        "**Del ingles al aleman.**"
      ],
      "metadata": {
        "id": "EUh8gV8Mm6Mm"
      }
    },
    {
      "cell_type": "code",
      "source": [
        "tokenizer.src_lang = \"en_XX\"\n",
        "encoded_eng_text = tokenizer(transcribed_text, return_tensors=\"pt\")\n",
        "generated_tokens = model.generate(\n",
        "    **encoded_eng_text,\n",
        "    forced_bos_token_id=tokenizer.lang_code_to_id[\"de_DE\"]\n",
        ")\n",
        "tokenizer.batch_decode(generated_tokens, skip_special_tokens=True)"
      ],
      "metadata": {
        "id": "YXAIFPyWyWWo",
        "colab": {
          "base_uri": "https://localhost:8080/"
        },
        "outputId": "04646ea4-ace9-4e13-e930-c8919faaeeed"
      },
      "execution_count": null,
      "outputs": [
        {
          "output_type": "execute_result",
          "data": {
            "text/plain": [
              "['Ich werde für die Champagne bezahlen Ich werde für die Champagne zu Nacht bezahlen']"
            ]
          },
          "metadata": {},
          "execution_count": 31
        }
      ]
    },
    {
      "cell_type": "markdown",
      "source": [
        "**Del ingles al japones**"
      ],
      "metadata": {
        "id": "MZp0vqm9zxhG"
      }
    },
    {
      "cell_type": "code",
      "source": [
        "tokenizer.src_lang = \"en_XX\"\n",
        "encoded_eng_text = tokenizer(transcribed_text, return_tensors=\"pt\")\n",
        "generated_tokens = model.generate(\n",
        "    **encoded_eng_text,\n",
        "    forced_bos_token_id=tokenizer.lang_code_to_id[\"ja_XX\"]\n",
        ")\n",
        "tokenizer.batch_decode(generated_tokens, skip_special_tokens=True)"
      ],
      "metadata": {
        "id": "FCZoStDHzx64",
        "colab": {
          "base_uri": "https://localhost:8080/"
        },
        "outputId": "9eb485c5-e3df-4ab8-a3c6-993c4c9b3481"
      },
      "execution_count": null,
      "outputs": [
        {
          "output_type": "execute_result",
          "data": {
            "text/plain": [
              "['私は夜にチャンパガンのために支払う チャンパガンのために支払う']"
            ]
          },
          "metadata": {},
          "execution_count": 24
        }
      ]
    },
    {
      "cell_type": "markdown",
      "source": [
        "**Del ingles al Arabico**"
      ],
      "metadata": {
        "id": "gSR8Y7YixHou"
      }
    },
    {
      "cell_type": "code",
      "source": [
        "tokenizer.src_lang = \"en_XX\"\n",
        "encoded_eng_text = tokenizer(transcribed_text, return_tensors=\"pt\")\n",
        "generated_tokens = model.generate(\n",
        "    **encoded_eng_text,\n",
        "    forced_bos_token_id=tokenizer.lang_code_to_id[\"ar_AR\"]\n",
        ")\n",
        "tokenizer.batch_decode(generated_tokens, skip_special_tokens=True)"
      ],
      "metadata": {
        "colab": {
          "base_uri": "https://localhost:8080/"
        },
        "id": "HpLYPj8exIVn",
        "outputId": "4e13ee74-9c29-4216-b2d6-b4d64f2de02c"
      },
      "execution_count": null,
      "outputs": [
        {
          "output_type": "execute_result",
          "data": {
            "text/plain": [
              "['سأدفع لكاماجين سأدفع لكاماجين ليلا']"
            ]
          },
          "metadata": {},
          "execution_count": 26
        }
      ]
    }
  ]
}