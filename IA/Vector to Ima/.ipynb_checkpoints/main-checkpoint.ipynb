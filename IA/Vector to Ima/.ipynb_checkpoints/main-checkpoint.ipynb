{
 "cells": [
  {
   "cell_type": "code",
   "execution_count": 7,
   "id": "2c6a9fa4-fa95-4c26-86c5-3ec3de25738d",
   "metadata": {
    "tags": []
   },
   "outputs": [],
   "source": [
    "from PIL import Image\n",
    "import numpy as np\n",
    "import os"
   ]
  },
  {
   "cell_type": "code",
   "execution_count": 6,
   "id": "198f98d5-935e-423e-a240-137e5031671f",
   "metadata": {
    "tags": []
   },
   "outputs": [
    {
     "ename": "OSError",
     "evalue": "[Errno 22] Invalid argument: 'http://localhost:8889/lab/tree/Documents/Tercer-Curso/IA/Vector%20to%20Ima/bulbasaur/640px-EP1230_Bulbasaur_de_Ash.png'",
     "output_type": "error",
     "traceback": [
      "\u001b[1;31m---------------------------------------------------------------------------\u001b[0m",
      "\u001b[1;31mOSError\u001b[0m                                   Traceback (most recent call last)",
      "Cell \u001b[1;32mIn[6], line 2\u001b[0m\n\u001b[0;32m      1\u001b[0m \u001b[38;5;66;03m# Abre la imagen\u001b[39;00m\n\u001b[1;32m----> 2\u001b[0m imagen \u001b[38;5;241m=\u001b[39m Image\u001b[38;5;241m.\u001b[39mopen(\u001b[38;5;124m\"\u001b[39m\u001b[38;5;124mhttp://localhost:8889/lab/tree/Documents/Tercer-Curso/IA/Vector\u001b[39m\u001b[38;5;124m%\u001b[39m\u001b[38;5;124m20to\u001b[39m\u001b[38;5;124m%\u001b[39m\u001b[38;5;124m20Ima/bulbasaur/640px-EP1230_Bulbasaur_de_Ash.png\u001b[39m\u001b[38;5;124m\"\u001b[39m)\n\u001b[0;32m      3\u001b[0m \u001b[38;5;66;03m# Convierte la imagen en un arreglo NumPy\u001b[39;00m\n\u001b[0;32m      4\u001b[0m imagen_array \u001b[38;5;241m=\u001b[39m np\u001b[38;5;241m.\u001b[39marray(imagen)\n",
      "File \u001b[1;32m~\\anaconda3\\Lib\\site-packages\\PIL\\Image.py:3227\u001b[0m, in \u001b[0;36mopen\u001b[1;34m(fp, mode, formats)\u001b[0m\n\u001b[0;32m   3224\u001b[0m     filename \u001b[38;5;241m=\u001b[39m fp\n\u001b[0;32m   3226\u001b[0m \u001b[38;5;28;01mif\u001b[39;00m filename:\n\u001b[1;32m-> 3227\u001b[0m     fp \u001b[38;5;241m=\u001b[39m builtins\u001b[38;5;241m.\u001b[39mopen(filename, \u001b[38;5;124m\"\u001b[39m\u001b[38;5;124mrb\u001b[39m\u001b[38;5;124m\"\u001b[39m)\n\u001b[0;32m   3228\u001b[0m     exclusive_fp \u001b[38;5;241m=\u001b[39m \u001b[38;5;28;01mTrue\u001b[39;00m\n\u001b[0;32m   3230\u001b[0m \u001b[38;5;28;01mtry\u001b[39;00m:\n",
      "\u001b[1;31mOSError\u001b[0m: [Errno 22] Invalid argument: 'http://localhost:8889/lab/tree/Documents/Tercer-Curso/IA/Vector%20to%20Ima/bulbasaur/640px-EP1230_Bulbasaur_de_Ash.png'"
     ]
    }
   ],
   "source": [
    "# Abre la imagen\n",
    "imagen = Image.open(\"\")\n",
    "# Convierte la imagen en un arreglo NumPy\n",
    "imagen_array = np.array(imagen)"
   ]
  },
  {
   "cell_type": "code",
   "execution_count": null,
   "id": "7f5467e2-1f14-4f0c-bca4-6c465f075a1f",
   "metadata": {
    "tags": []
   },
   "outputs": [],
   "source": [
    "# Calcula el promedio de todos los píxeles (promedio del valor de intensidad)\n",
    "promedio_cc = np.mean(imagen_array)"
   ]
  },
  {
   "cell_type": "code",
   "execution_count": null,
   "id": "74bfb313-33c0-4d2c-bcd4-1325935e2282",
   "metadata": {
    "tags": []
   },
   "outputs": [],
   "source": [
    "# Calcula el promedio de cada canal de color (R, G y B)\n",
    "promedio_canal_R = np.mean(imagen_array[:, :, 0])\n",
    "promedio_canal_G = np.mean(imagen_array[:, :, 1])\n",
    "promedio_canal_B = np.mean(imagen_array[:, :, 2])"
   ]
  },
  {
   "cell_type": "code",
   "execution_count": null,
   "id": "a838abe2-bab4-4523-8581-0d585bdc41bf",
   "metadata": {
    "tags": []
   },
   "outputs": [],
   "source": [
    "# Aplana el arreglo en un vector nxm\n",
    "imagen_vector = imagen_array.flatten()"
   ]
  },
  {
   "cell_type": "code",
   "execution_count": 10,
   "id": "290fd97d-68de-447c-8c00-022751dd43bd",
   "metadata": {
    "tags": []
   },
   "outputs": [
    {
     "ename": "FileNotFoundError",
     "evalue": "[WinError 3] The system cannot find the path specified: '/bulbasur/'",
     "output_type": "error",
     "traceback": [
      "\u001b[1;31m---------------------------------------------------------------------------\u001b[0m",
      "\u001b[1;31mFileNotFoundError\u001b[0m                         Traceback (most recent call last)",
      "Cell \u001b[1;32mIn[10], line 4\u001b[0m\n\u001b[0;32m      2\u001b[0m directory \u001b[38;5;241m=\u001b[39m \u001b[38;5;124m'\u001b[39m\u001b[38;5;124m/bulbasur/\u001b[39m\u001b[38;5;124m'\u001b[39m  \u001b[38;5;66;03m# Suponiendo que las imágenes se encuentren en esta carpeta\u001b[39;00m\n\u001b[0;32m      3\u001b[0m results \u001b[38;5;241m=\u001b[39m {}\n\u001b[1;32m----> 4\u001b[0m \u001b[38;5;28;01mfor\u001b[39;00m filename \u001b[38;5;129;01min\u001b[39;00m os\u001b[38;5;241m.\u001b[39mlistdir(directory):\n\u001b[0;32m      5\u001b[0m     \u001b[38;5;28;01mif\u001b[39;00m filename\u001b[38;5;241m.\u001b[39mendswith((\u001b[38;5;124m'\u001b[39m\u001b[38;5;124m.png\u001b[39m\u001b[38;5;124m'\u001b[39m, \u001b[38;5;124m'\u001b[39m\u001b[38;5;124m.jpg\u001b[39m\u001b[38;5;124m'\u001b[39m, \u001b[38;5;124m'\u001b[39m\u001b[38;5;124m.jpeg\u001b[39m\u001b[38;5;124m'\u001b[39m)):\n\u001b[0;32m      6\u001b[0m         file_path \u001b[38;5;241m=\u001b[39m os\u001b[38;5;241m.\u001b[39mpath\u001b[38;5;241m.\u001b[39mjoin(directory, filename)\n",
      "\u001b[1;31mFileNotFoundError\u001b[0m: [WinError 3] The system cannot find the path specified: '/bulbasur/'"
     ]
    }
   ],
   "source": [
    "directory = 'Documents/Tercer-Curso/IA/Vector to Ima/bulbasaur'\n",
    "results = {}\n",
    "for filename in os.listdir(directory):\n",
    "    if filename.endswith(('.png', '.jpg', '.jpeg')):\n",
    "        file_path = os.path.join(directory, filename)\n",
    "\n",
    "        # Cargar la imagen\n",
    "        with Image.open(file_path) as img:\n",
    "            img_array = np.array(img)\n",
    "\n",
    "            # Calcular el promedio de color (1 elemento)\n",
    "            avg_color = np.mean(img_array, axis=(0, 1))\n",
    "\n",
    "            # Calcular promedio de R, G, B (3 elementos)\n",
    "            avg_rgb = [np.mean(img_array[:, :, i]) for i in range(3)]\n",
    "\n",
    "            # Aplanar la imagen a un vector (nxm elementos)\n",
    "            flattened = img_array.flatten()\n",
    "\n",
    "            # Almacenar los resultados\n",
    "            results[filename] = {\n",
    "                'avg_color': avg_color,\n",
    "                'avg_rgb': avg_rgb,\n",
    "                'flattened': flattened\n",
    "            }"
   ]
  },
  {
   "cell_type": "code",
   "execution_count": null,
   "id": "f1731a72-43e9-4f75-a9b5-8104dd3d93a7",
   "metadata": {},
   "outputs": [],
   "source": []
  }
 ],
 "metadata": {
  "kernelspec": {
   "display_name": "Python 3 (ipykernel)",
   "language": "python",
   "name": "python3"
  },
  "language_info": {
   "codemirror_mode": {
    "name": "ipython",
    "version": 3
   },
   "file_extension": ".py",
   "mimetype": "text/x-python",
   "name": "python",
   "nbconvert_exporter": "python",
   "pygments_lexer": "ipython3",
   "version": "3.11.5"
  }
 },
 "nbformat": 4,
 "nbformat_minor": 5
}
