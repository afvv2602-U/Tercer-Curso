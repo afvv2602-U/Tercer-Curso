{
 "cells": [
  {
   "cell_type": "code",
   "execution_count": null,
   "id": "2c6a9fa4-fa95-4c26-86c5-3ec3de25738d",
   "metadata": {
    "tags": []
   },
   "outputs": [],
   "source": [
    "from PIL import Image\n",
    "import numpy as np\n",
    "import os"
   ]
  },
  {
   "cell_type": "code",
   "execution_count": null,
   "id": "198f98d5-935e-423e-a240-137e5031671f",
   "metadata": {
    "tags": []
   },
   "outputs": [],
   "source": [
    "# Abre la imagen\n",
    "imagen = Image.open(\"bulbasaur\\\\640px-EP1230_Bulbasaur_de_Ash.png\")\n",
    "imagen"
   ]
  },
  {
   "cell_type": "code",
   "execution_count": null,
   "metadata": {},
   "outputs": [],
   "source": [
    "# Convierte la imagen en un arreglo NumPy\n",
    "imagen_array = np.array(imagen)\n",
    "imagen_array"
   ]
  },
  {
   "cell_type": "code",
   "execution_count": null,
   "id": "7f5467e2-1f14-4f0c-bca4-6c465f075a1f",
   "metadata": {
    "tags": []
   },
   "outputs": [],
   "source": [
    "# Calcula el promedio de todos los píxeles (promedio del valor de intensidad)\n",
    "promedio_cc = np.mean(imagen_array)\n",
    "promedio_cc"
   ]
  },
  {
   "cell_type": "code",
   "execution_count": null,
   "id": "74bfb313-33c0-4d2c-bcd4-1325935e2282",
   "metadata": {
    "tags": []
   },
   "outputs": [],
   "source": [
    "# Calcula el promedio de cada canal de color (R, G y B)\n",
    "promedio_canal_R = np.mean(imagen_array[:, :, 0])\n",
    "promedio_canal_G = np.mean(imagen_array[:, :, 1])\n",
    "promedio_canal_B = np.mean(imagen_array[:, :, 2])\n",
    "promedio_canal_R,promedio_canal_G,promedio_canal_B"
   ]
  },
  {
   "cell_type": "code",
   "execution_count": null,
   "id": "a838abe2-bab4-4523-8581-0d585bdc41bf",
   "metadata": {
    "tags": []
   },
   "outputs": [],
   "source": [
    "# Aplana el arreglo en un vector nxm\n",
    "imagen_vector = imagen_array.flatten()\n",
    "imagen_vector"
   ]
  },
  {
   "cell_type": "code",
   "execution_count": null,
   "id": "290fd97d-68de-447c-8c00-022751dd43bd",
   "metadata": {
    "tags": []
   },
   "outputs": [],
   "source": [
    "# Dictionary to store the results\n",
    "bulbasaur_results = {}\n",
    "\n",
    "# Standard size to which all images will be resized\n",
    "standard_size = (256, 256)\n",
    "\n",
    "image_paths = [\n",
    "    'bulbasaur/640px-EP1230_Bulbasaur_de_Ash.png',\n",
    "    'bulbasaur/1540-1.jpg',\n",
    "    'bulbasaur/0191726379874.jpg',\n",
    "    'bulbasaur/Bulbasaur.webp',\n",
    "    'bulbasaur/bulbasaur-pokemon-1080x609.webp',\n",
    "    'bulbasaur/bulbasur_98.webp',\n",
    "    'bulbasaur/cb923e925f03bab195413d2a71af4813.jpeg',\n",
    "    'bulbasaur/pokemon-bulbasaur.jpg',\n",
    "    'bulbasaur/shiny-bulbasaur-evolution-perfect-iv-stats-walrein-best-moveset-pokemon-go-9004-1642763882514.jpg'\n",
    "]\n",
    "\n",
    "for file_path in image_paths:\n",
    "    # Extract the filename for key reference\n",
    "    filename = os.path.basename(file_path)\n",
    "\n",
    "    # Load the image\n",
    "    with Image.open(file_path) as img:\n",
    "        # Convert image to RGBA if it's not already in that mode\n",
    "        if img.mode != 'RGBA':\n",
    "            img = img.convert('RGBA')\n",
    "        \n",
    "            # Resize the image to the standard size\n",
    "            img = img.resize(standard_size, Image.ANTIALIAS)\n",
    "\n",
    "            # Convert image to an array\n",
    "            img_array = np.array(img)\n",
    "\n",
    "            # Mask to identify non-transparent pixels (alpha channel is not 0)\n",
    "            non_transparent_mask = img_array[:, :, 3] != 0\n",
    "\n",
    "            # Calculate the average color, excluding transparent pixels\n",
    "            avg_color = np.mean(img_array[non_transparent_mask][:, :3], axis=0)\n",
    "\n",
    "            # Calculate average of R, G, B, excluding transparent pixels\n",
    "            avg_rgb = [np.mean(img_array[non_transparent_mask][:, i]) for i in range(3)]\n",
    "\n",
    "            # Flatten the image to a vector, excluding transparent pixels\n",
    "            flattened = img_array[non_transparent_mask][:, :3].flatten()\n",
    "\n",
    "            # Store the results\n",
    "            bulbasaur_results[filename] = {\n",
    "                'avg_color': avg_color,\n",
    "                'avg_rgb': avg_rgb,\n",
    "                'flattened': flattened\n",
    "            }\n",
    "\n",
    "bulbasaur_results  # Display a summary of the results"
   ]
  },
  {
   "cell_type": "code",
   "execution_count": null,
   "id": "f1731a72-43e9-4f75-a9b5-8104dd3d93a7",
   "metadata": {},
   "outputs": [],
   "source": [
    "pikachu_image_paths = [\n",
    "    'pikachu/98.webp',\n",
    "    'pikachu/dcabb7fbb2f763d680d20a3d228cc6f9.jpg',\n",
    "    'pikachu/download.jpeg',\n",
    "    'pikachu/images.jpeg',\n",
    "    'pikachu/Pikachu.jpg',\n",
    "    'pikachu/pikachu-pokemon-escarlata-purpura-2888180.webp',\n",
    "    'pikachu/pikachu-spotlight-hour-v-iune-2022-pokemon-go-1024x609.jpg',\n",
    "    'pikachu/pokemon-anime-pikachu.webp',\n",
    "    'pikachu/pokemon-unite-pikachu-build-header.jpg'\n",
    "]\n",
    "\n",
    "# Re-using the standard size and process as defined earlier\n",
    "pikachu_results = {}\n",
    "\n",
    "for file_path in pikachu_image_paths:\n",
    "    # Extract the filename for key reference\n",
    "    filename = os.path.basename(file_path)\n",
    "\n",
    "    # Load the image\n",
    "    with Image.open(file_path) as img:\n",
    "        # Convert image to RGBA if it's not already in that mode\n",
    "        if img.mode != 'RGBA':\n",
    "            img = img.convert('RGBA')\n",
    "        \n",
    "        # Resize the image to the standard size\n",
    "        img = img.resize(standard_size, Image.ANTIALIAS)\n",
    "\n",
    "        # Convert image to an array\n",
    "        img_array = np.array(img)\n",
    "\n",
    "        # Mask to identify non-transparent pixels (alpha channel is not 0)\n",
    "        non_transparent_mask = img_array[:, :, 3] != 0\n",
    "\n",
    "        # Calculate the average color, excluding transparent pixels\n",
    "        avg_color = np.mean(img_array[non_transparent_mask][:, :3], axis=0)\n",
    "\n",
    "        # Calculate average of R, G, B, excluding transparent pixels\n",
    "        avg_rgb = [np.mean(img_array[non_transparent_mask][:, i]) for i in range(3)]\n",
    "\n",
    "        # Flatten the image to a vector, excluding transparent pixels\n",
    "        flattened = img_array[non_transparent_mask][:, :3].flatten()\n",
    "\n",
    "        # Store the results\n",
    "        pikachu_results[filename] = {\n",
    "            'avg_color': avg_color,\n",
    "            'avg_rgb': avg_rgb,\n",
    "            'flattened': flattened\n",
    "        }\n",
    "\n",
    "pikachu_results  # Display a summary of the results"
   ]
  },
  {
   "cell_type": "code",
   "execution_count": null,
   "metadata": {},
   "outputs": [],
   "source": [
    "from sklearn.model_selection import train_test_split\n",
    "from sklearn.svm import SVC\n",
    "from sklearn.metrics import classification_report, accuracy_score"
   ]
  },
  {
   "cell_type": "code",
   "execution_count": null,
   "metadata": {},
   "outputs": [],
   "source": [
    "# Combine the average RGB vectors from both Bulbasaur and Pikachu and create labels\n",
    "X = np.array([value['avg_rgb'] for key, value in bulbasaur_results.items()] + \n",
    "             [value['avg_rgb'] for key, value in pikachu_results.items()])\n",
    "\n",
    "X"
   ]
  },
  {
   "cell_type": "code",
   "execution_count": null,
   "metadata": {},
   "outputs": [],
   "source": [
    "# Labels: 0 for Bulbasaur, 1 for Pikachu\n",
    "y = np.array([0] * len(bulbasaur_results) + [1] * len(pikachu_results))\n",
    "y"
   ]
  },
  {
   "cell_type": "code",
   "execution_count": null,
   "metadata": {},
   "outputs": [],
   "source": [
    "# Split the dataset into a training set and a test set\n",
    "X_train, X_test, y_train, y_test = train_test_split(X, y, test_size=0.2, random_state=42)\n",
    "X_train, X_test, y_train, y_test"
   ]
  },
  {
   "cell_type": "code",
   "execution_count": null,
   "metadata": {},
   "outputs": [],
   "source": [
    "# Initialize the Support Vector Classifier\n",
    "svc = SVC(kernel='linear')"
   ]
  },
  {
   "cell_type": "code",
   "execution_count": null,
   "metadata": {},
   "outputs": [],
   "source": [
    "# Train the classifier\n",
    "svc.fit(X_train, y_train)"
   ]
  },
  {
   "cell_type": "code",
   "execution_count": null,
   "metadata": {},
   "outputs": [],
   "source": [
    "# Make predictions on the test set\n",
    "y_pred = svc.predict(X_test)\n",
    "y_pred"
   ]
  },
  {
   "cell_type": "code",
   "execution_count": null,
   "metadata": {},
   "outputs": [],
   "source": [
    "# Evaluate the classifier\n",
    "accuracy = accuracy_score(y_test, y_pred)\n",
    "accuracy"
   ]
  },
  {
   "cell_type": "code",
   "execution_count": null,
   "metadata": {},
   "outputs": [],
   "source": [
    "# Evaluate the classifier\n",
    "report = classification_report(y_test, y_pred)\n",
    "report"
   ]
  }
 ],
 "metadata": {
  "kernelspec": {
   "display_name": "Python 3 (ipykernel)",
   "language": "python",
   "name": "python3"
  },
  "language_info": {
   "codemirror_mode": {
    "name": "ipython",
    "version": 3
   },
   "file_extension": ".py",
   "mimetype": "text/x-python",
   "name": "python",
   "nbconvert_exporter": "python",
   "pygments_lexer": "ipython3",
   "version": "3.11.5"
  }
 },
 "nbformat": 4,
 "nbformat_minor": 5
}
