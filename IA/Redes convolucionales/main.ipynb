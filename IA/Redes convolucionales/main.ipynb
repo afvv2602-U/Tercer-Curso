{
 "cells": [
  {
   "cell_type": "markdown",
   "metadata": {},
   "source": [
    "<h1>Musseum Art Classification</h1>\n"
   ]
  },
  {
   "cell_type": "code",
   "execution_count": null,
   "metadata": {},
   "outputs": [],
   "source": []
  },
  {
   "cell_type": "markdown",
   "metadata": {},
   "source": [
    "Menciones\n",
    "\n",
    "@article{shen2023firerisk,\n",
    "  title   = {FireRisk: A Remote Sensing Dataset for Fire Risk Assessment with Benchmarks Using Supervised and Self-supervised Learning},\n",
    "  author  = {Shuchang Shen and Sachith Seneviratne and Xinye Wanyan and Michael Kirley},\n",
    "  year    = {2023},\n",
    "  journal = {arXiv preprint arXiv: 2303.07035}\n",
    "}"
   ]
  }
 ],
 "metadata": {
  "language_info": {
   "name": "python"
  }
 },
 "nbformat": 4,
 "nbformat_minor": 2
}
